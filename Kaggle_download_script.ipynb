{
  "nbformat": 4,
  "nbformat_minor": 0,
  "metadata": {
    "colab": {
      "provenance": []
    },
    "kernelspec": {
      "name": "python3",
      "display_name": "Python 3"
    },
    "language_info": {
      "name": "python"
    }
  },
  "cells": [
    {
      "cell_type": "code",
      "source": [
        "import os\n",
        "from google.colab import drive\n",
        "\n",
        "# Install necessary packages\n",
        "!pip install kaggle\n",
        "\n",
        "# Mount Google Drive (optional - useful if you want to save the datasets there)\n",
        "drive.mount('/content/drive')\n",
        "\n",
        "# Set up Kaggle API credentials:\n",
        "# 1. Upload your kaggle.json file (downloaded from your Kaggle account API section) into the Colab session.\n",
        "# 2. The following commands will move it to the correct location and set the appropriate permissions.\n",
        "\n",
        "!mkdir -p ~/.kaggle\n",
        "!cp kaggle.json ~/.kaggle/\n",
        "!chmod 600 ~/.kaggle/kaggle.json\n",
        "\n",
        "# Download and extract the Stanford Cars dataset from Kaggle\n",
        "!kaggle datasets download -d jessicali9530/stanford-cars-dataset --unzip\n",
        "\n",
        "# Download and extract the CUB-200-2011 dataset from Kaggle\n",
        "!kaggle datasets download -d wenewone/cub2002011 --unzip\n",
        "\n",
        "print(\"Both datasets have been downloaded and extracted!\")\n"
      ],
      "metadata": {
        "colab": {
          "base_uri": "https://localhost:8080/"
        },
        "id": "Hg0AOSDUeU2b",
        "outputId": "9e28bada-c6d1-44d6-8aaf-b3768e9a08b3"
      },
      "execution_count": 4,
      "outputs": [
        {
          "output_type": "stream",
          "name": "stdout",
          "text": [
            "Requirement already satisfied: kaggle in /usr/local/lib/python3.11/dist-packages (1.6.17)\n",
            "Requirement already satisfied: six>=1.10 in /usr/local/lib/python3.11/dist-packages (from kaggle) (1.17.0)\n",
            "Requirement already satisfied: certifi>=2023.7.22 in /usr/local/lib/python3.11/dist-packages (from kaggle) (2025.1.31)\n",
            "Requirement already satisfied: python-dateutil in /usr/local/lib/python3.11/dist-packages (from kaggle) (2.8.2)\n",
            "Requirement already satisfied: requests in /usr/local/lib/python3.11/dist-packages (from kaggle) (2.32.3)\n",
            "Requirement already satisfied: tqdm in /usr/local/lib/python3.11/dist-packages (from kaggle) (4.67.1)\n",
            "Requirement already satisfied: python-slugify in /usr/local/lib/python3.11/dist-packages (from kaggle) (8.0.4)\n",
            "Requirement already satisfied: urllib3 in /usr/local/lib/python3.11/dist-packages (from kaggle) (2.3.0)\n",
            "Requirement already satisfied: bleach in /usr/local/lib/python3.11/dist-packages (from kaggle) (6.2.0)\n",
            "Requirement already satisfied: webencodings in /usr/local/lib/python3.11/dist-packages (from bleach->kaggle) (0.5.1)\n",
            "Requirement already satisfied: text-unidecode>=1.3 in /usr/local/lib/python3.11/dist-packages (from python-slugify->kaggle) (1.3)\n",
            "Requirement already satisfied: charset-normalizer<4,>=2 in /usr/local/lib/python3.11/dist-packages (from requests->kaggle) (3.4.1)\n",
            "Requirement already satisfied: idna<4,>=2.5 in /usr/local/lib/python3.11/dist-packages (from requests->kaggle) (3.10)\n",
            "Drive already mounted at /content/drive; to attempt to forcibly remount, call drive.mount(\"/content/drive\", force_remount=True).\n",
            "cp: cannot stat 'kaggle.json': No such file or directory\n",
            "chmod: cannot access '/root/.kaggle/kaggle.json': No such file or directory\n",
            "Dataset URL: https://www.kaggle.com/datasets/jessicali9530/stanford-cars-dataset\n",
            "License(s): other\n",
            "Downloading stanford-cars-dataset.zip to /content\n",
            "100% 1.82G/1.82G [00:28<00:00, 109MB/s]\n",
            "100% 1.82G/1.82G [00:28<00:00, 68.6MB/s]\n",
            "Dataset URL: https://www.kaggle.com/datasets/wenewone/cub2002011\n",
            "License(s): CC0-1.0\n",
            "Downloading cub2002011.zip to /content\n",
            "100% 1.49G/1.49G [00:15<00:00, 131MB/s]\n",
            "100% 1.49G/1.49G [00:15<00:00, 101MB/s]\n",
            "Both datasets have been downloaded and extracted!\n"
          ]
        }
      ]
    }
  ]
}